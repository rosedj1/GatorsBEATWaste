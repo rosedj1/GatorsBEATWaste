{
 "cells": [
  {
   "cell_type": "code",
   "execution_count": 52,
   "metadata": {},
   "outputs": [],
   "source": [
    "#!/usr/bin/env python\n",
    "# coding: utf-8\n",
    "import numpy as np\n",
    "import pandas as pd\n",
    "# import gspread\n",
    "# from oauth2client.service_account import ServiceAccountCredentials\n",
    "# from pandas.io.json import json_normalize"
   ]
  },
  {
   "cell_type": "code",
   "execution_count": 53,
   "metadata": {},
   "outputs": [],
   "source": [
    "df = pd.read_excel(\"/Users/Jake/Desktop/UF/GatorsBEATWaste/data/GBW_Data_2021.xlsm\",\n",
    "                  sheet_name=\"Database\")"
   ]
  },
  {
   "cell_type": "markdown",
   "metadata": {},
   "source": [
    "# Calculate diversion ratio\n",
    "\n",
    "div_rat = $\\frac{weight(recycle + compost)}{weight(recycle + compost + landfill)}$"
   ]
  },
  {
   "cell_type": "code",
   "execution_count": 54,
   "metadata": {},
   "outputs": [],
   "source": [
    "def calc_all_weight(df, stream):\n",
    "    \"\"\"Return the total weight of `stream` across all data.\n",
    "    \n",
    "    Parameters\n",
    "    ----------\n",
    "    df : DataFrame\n",
    "    stream : str\n",
    "        'Paper Recycling', 'Plastic Recycling', 'Compost', 'Landfill'\n",
    "    \"\"\"\n",
    "    small_df = df[df['What bin was the item found in?'] == stream]\n",
    "    return small_df.sum(axis=0)['Item Weight (pounds)']\n",
    "\n",
    "def calc_correct_weight(df, stream):\n",
    "    \"\"\"Return the total weight of `stream` when labeled \"Correct\".\n",
    "    \n",
    "    Parameters\n",
    "    ----------\n",
    "    df : DataFrame\n",
    "    stream : str\n",
    "        'Paper Recycling', 'Plastic Recycling', 'Compost', 'Landfill'\n",
    "    \"\"\"\n",
    "    bool_corr = (df['Was it found in the correct or incorrect bin?'] == \"Correct\")\n",
    "    bool_stream = (df['What bin was the item found in?'] == stream)\n",
    "    df_corr_stream = df[bool_stream & bool_corr]\n",
    "    return calc_all_weight(df_corr_stream, stream)\n",
    "\n",
    "def calc_incorrect_weight(df, stream):\n",
    "    \"\"\"Return the total weight of `stream` when labeled \"Inorrect\".\n",
    "    \n",
    "    Parameters\n",
    "    ----------\n",
    "    df : DataFrame\n",
    "    stream : str\n",
    "        'Paper Recycling', 'Plastic Recycling', 'Compost', 'Landfill'\n",
    "    \"\"\"\n",
    "    all_wt = calc_all_weight(df, stream)\n",
    "    cor_wt = calc_correct_weight(df, stream)\n",
    "    return all_wt - cor_wt\n",
    "\n",
    "# def calc_diverted_weight(df, stream):\n",
    "#     \"\"\"Return the total weight of `stream` \"\"\"\n",
    "\n",
    "def calc_div_ratio(df, mv_incorr_to_landfill=True, best_case=False):\n",
    "    \"\"\"Return the diversion rate (ratio) of data.\n",
    "    \n",
    "    Diversion ratio = sum(recycle, compost) / sum(recycle, compost, landfill)\n",
    "    \n",
    "    FIXME:\n",
    "    [ ] Needs to put incorrect data into \"Landfill\" bin.\n",
    "    \n",
    "    NOTES:\n",
    "        \n",
    "    Parameters\n",
    "    ----------\n",
    "    df : DataFrame\n",
    "    mv_incorr_to_landfill : bool\n",
    "        If True, incorrect items are moved to the landfill.\n",
    "        This provides a more accurate measure of the diversion\n",
    "        ratio since an incorrectly recycled bottle doesn't actually\n",
    "        help divert waste. It now must go in landfill.\n",
    "    best_case : bool\n",
    "        If True, pretend all items were correctly placed.\n",
    "        Calculate this hypothetical diversion ratio. \n",
    "    \"\"\"\n",
    "    assert not (mv_incorr_to_landfill and best_case), \"Choose one or the other!\"\n",
    "    \n",
    "    streams = [\"Paper Recycling\", \"Plastic Recycling\", \"Compost\", \"Landfill\"]\n",
    "    denom = sum([calc_all_weight(df, strm) for strm in streams])\n",
    "    \n",
    "    if mv_incorr_to_landfill:\n",
    "        # Count incorrect items in Recycle and Compost towards landfill weight.\n",
    "        numer = sum([calc_correct_weight(df, strm) for strm in streams if strm not in \"Landfill\"])\n",
    "    elif best_case:\n",
    "        # Suppose all items collected were placed in correct bins.\n",
    "        raise RuntimeError(\"Need to put all items in correct bins.\")\n",
    "#         numer = sum([calc_all_weight(strm) for strm in streams if strm not in \"Landfill\"])\n",
    "    else:\n",
    "        # Plain and simple.\n",
    "        numer = sum([calc_all_weight(df, strm) for strm in streams if strm not in \"Landfill\"])\n",
    "    return numer / float(denom)"
   ]
  },
  {
   "cell_type": "code",
   "execution_count": 56,
   "metadata": {},
   "outputs": [
    {
     "data": {
      "text/plain": [
       "0.3854554636702228"
      ]
     },
     "execution_count": 56,
     "metadata": {},
     "output_type": "execute_result"
    }
   ],
   "source": [
    "calc_div_ratio(df, mv_incorr_to_landfill=True, best_case=False)"
   ]
  },
  {
   "cell_type": "code",
   "execution_count": 57,
   "metadata": {},
   "outputs": [
    {
     "data": {
      "text/plain": [
       "0.5377185783725775"
      ]
     },
     "execution_count": 57,
     "metadata": {},
     "output_type": "execute_result"
    }
   ],
   "source": [
    "calc_div_ratio(df, mv_incorr_to_landfill=False, best_case=False)"
   ]
  },
  {
   "cell_type": "code",
   "execution_count": 40,
   "metadata": {},
   "outputs": [
    {
     "data": {
      "text/plain": [
       "2.325991189427313"
      ]
     },
     "execution_count": 40,
     "metadata": {},
     "output_type": "execute_result"
    }
   ],
   "source": [
    "calc_all_weight(df, \"Paper Recycling\")"
   ]
  },
  {
   "cell_type": "code",
   "execution_count": 42,
   "metadata": {},
   "outputs": [
    {
     "data": {
      "text/plain": [
       "1.590308370044053"
      ]
     },
     "execution_count": 42,
     "metadata": {},
     "output_type": "execute_result"
    }
   ],
   "source": [
    "calc_incorrect_weight(df, \"Paper Recycling\")"
   ]
  },
  {
   "cell_type": "code",
   "execution_count": 31,
   "metadata": {},
   "outputs": [
    {
     "data": {
      "text/plain": [
       "1.5903083700440528"
      ]
     },
     "execution_count": 31,
     "metadata": {},
     "output_type": "execute_result"
    }
   ],
   "source": [
    "booldf_paper = (df['What bin was the item found in?'] == \"Paper Recycling\")\n",
    "booldf_incorr = (df['Was it found in the correct or incorrect bin?'] == \"Incorrect\")\n",
    "booldf_corr = (df['Was it found in the correct or incorrect bin?'] == \"Correct\")\n",
    "\n",
    "df_incorr_paper = df[booldf_paper & booldf_incorr]\n",
    "calc_all_weight(df_incorr_paper, \"Paper Recycling\")\n"
   ]
  },
  {
   "cell_type": "markdown",
   "metadata": {},
   "source": [
    "# Item Classes"
   ]
  },
  {
   "cell_type": "code",
   "execution_count": 14,
   "metadata": {},
   "outputs": [],
   "source": [
    "# PlasticItem(\"bottle\", )\n",
    "\n",
    "class PlasticItem:\n",
    "    def __init__(self):\n",
    "        self.correct_bin = \"Plastic\"\n",
    "\n",
    "class PaperItem:\n",
    "    def __init__(self, name):\n",
    "        self.correct_bin = \"Paper\"\n",
    "        self.name = name\n",
    "        \n",
    "class Restaurant:\n",
    "    def __init__(self, name):\n",
    "        self.name = name\n",
    "        self.waste_num = 0"
   ]
  },
  {
   "cell_type": "code",
   "execution_count": 15,
   "metadata": {},
   "outputs": [],
   "source": [
    "wendy = Restaurant(\"Wendy's\")"
   ]
  },
  {
   "cell_type": "code",
   "execution_count": 20,
   "metadata": {},
   "outputs": [],
   "source": [
    "wendy.waste_num = wendy.waste_num + 0.2"
   ]
  },
  {
   "cell_type": "code",
   "execution_count": 21,
   "metadata": {},
   "outputs": [
    {
     "data": {
      "text/plain": [
       "0.7"
      ]
     },
     "execution_count": 21,
     "metadata": {},
     "output_type": "execute_result"
    }
   ],
   "source": [
    "wendy.waste_num"
   ]
  },
  {
   "cell_type": "code",
   "execution_count": null,
   "metadata": {},
   "outputs": [],
   "source": [
    "my_dct = {\n",
    "    \"michelle\" : \"A bright and young aspiring scientist who will work CDM Smith!!!\",\n",
    "}"
   ]
  },
  {
   "cell_type": "code",
   "execution_count": 13,
   "metadata": {},
   "outputs": [
    {
     "data": {
      "text/plain": [
       "str"
      ]
     },
     "execution_count": 13,
     "metadata": {},
     "output_type": "execute_result"
    }
   ],
   "source": [
    "df.iloc[1][\"Unnamed: 6\"]"
   ]
  },
  {
   "cell_type": "code",
   "execution_count": null,
   "metadata": {},
   "outputs": [],
   "source": [
    "#Connect to service account\n",
    "# scope = ['https://spreadsheets.google.com/feeds']\n",
    "\n",
    "# credentials = ServiceAccountCredentials.from_json_keyfile_name('', scope)\n",
    "\n",
    "# gc=gspread.authorize(credentials)\n",
    "\n",
    "# #Get candidate data sheet from Google Drive\n",
    "# spreadsheet_key = ''\n",
    "# #Delete spreadsheet key before uploading\n",
    "\n",
    "# book = gc.open_by_key(spreadsheet_key) \n",
    "# worksheet = book.worksheet(\"Data Analysis 2\") \n",
    "# table = worksheet.get_all_values()\n",
    "# print(table)\n",
    "\n",
    "# table[0][1]\n",
    "\n",
    "# ##Convert table data into a dataframe\n",
    "# df = pd.DataFrame(table[1:], columns=table[0])\n",
    "# # table[1:] means start at first element (not 0th element) and keep going\n",
    "# df\n",
    "\n",
    "\n",
    "# # df.iloc(0)"
   ]
  }
 ],
 "metadata": {
  "kernelspec": {
   "display_name": "Python 3",
   "language": "python",
   "name": "python3"
  },
  "language_info": {
   "codemirror_mode": {
    "name": "ipython",
    "version": 3
   },
   "file_extension": ".py",
   "mimetype": "text/x-python",
   "name": "python",
   "nbconvert_exporter": "python",
   "pygments_lexer": "ipython3",
   "version": "3.7.4"
  }
 },
 "nbformat": 4,
 "nbformat_minor": 4
}
