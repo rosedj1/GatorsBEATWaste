{
 "cells": [
  {
   "cell_type": "code",
   "execution_count": null,
   "metadata": {},
   "outputs": [],
   "source": [
    "#!/usr/bin/env python\n",
    "# coding: utf-8\n",
    "import pandas as pd\n",
    "import gspread\n",
    "from oauth2client.service_account import ServiceAccountCredentials\n",
    "from pandas.io.json import json_normalize\n",
    "\n",
    "#Connect to service account\n",
    "scope = ['https://spreadsheets.google.com/feeds']\n",
    "\n",
    "credentials = ServiceAccountCredentials.from_json_keyfile_name('1GNnEaQ8b9Cl6TWhcM_Geyb04s6odwGupQ45uCVOOnCI', scope)\n",
    "\n",
    "gc=gspread.authorize(credentials)\n",
    "\n",
    "#Get candidate data sheet from Google Drive\n",
    "spreadsheet_key = ''\n",
    "#Delete spreadsheet key before uploading\n",
    "\n",
    "book = gc.open_by_key(spreadsheet_key) \n",
    "worksheet = book.worksheet(\"Data Analysis 2\") \n",
    "table = worksheet.get_all_values()\n",
    "print(table)\n",
    "\n",
    "table[0][1]\n",
    "\n",
    "##Convert table data into a dataframe\n",
    "df = pd.DataFrame(table[1:], columns=table[0])\n",
    "# table[1:] means start at first element (not 0th element) and keep going\n",
    "df\n",
    "\n",
    "\n",
    "# df.iloc(0)"
   ]
  },
  {
   "cell_type": "code",
   "execution_count": 1,
   "metadata": {},
   "outputs": [],
   "source": [
    "line1 = \",,,,,,,,,,,,,,,,7,foil food wrappers,,,,,,,,,,,,^M                    \"\n",
    "line2 = \",,Number of starbucks items,,,,,,,,,,,,,,10,panda fortune cookie wrapp\"\n",
    "line3 = \",,,,,,,,,,,,,,,,1,wendys plastic fountain drink cup,,,,,,,,,,,,^M     \"\n",
    "line4 = \",,,,,,,,,,,,,,,,24,cup lids,,,,,,,,,,,,^M                             \"\n",
    "line5 = \",,,,,,,,,,,,,,,,1,shakesmart bowl & lid,,,,,,,,,,,,^M                 \"\n",
    "line6 = \",,,,,,,,,,,,,,,,2,side bowl lids,,,,,,,,,,,,^M                        \"\n",
    "line7 = \",,,Unweighted,Weighted,,,,,,,,,,,,1,pollo soup/food bowl,,,,,,,,,,,,^M\"\n",
    "line8 = \",,Compost,71.2%,58.6%,,,,,,,,,,,,1,fortune,,,,,,,,,,,,^M              \""
   ]
  },
  {
   "cell_type": "code",
   "execution_count": 4,
   "metadata": {},
   "outputs": [],
   "source": [
    "line1_tmp = line1.rstrip()\n",
    "line1_tmp = line1_tmp.replace(\"^M\", \"\").replace(\",\", \"\")"
   ]
  },
  {
   "cell_type": "code",
   "execution_count": 5,
   "metadata": {},
   "outputs": [
    {
     "data": {
      "text/plain": [
       "',,,,,,,,,,,,,,,,7,foil food wrappers,,,,,,,,,,,,'"
      ]
     },
     "execution_count": 5,
     "metadata": {},
     "output_type": "execute_result"
    }
   ],
   "source": [
    "line1_tmp"
   ]
  },
  {
   "cell_type": "code",
   "execution_count": null,
   "metadata": {},
   "outputs": [],
   "source": []
  }
 ],
 "metadata": {
  "kernelspec": {
   "display_name": "Python 3",
   "language": "python",
   "name": "python3"
  },
  "language_info": {
   "codemirror_mode": {
    "name": "ipython",
    "version": 3
   },
   "file_extension": ".py",
   "mimetype": "text/x-python",
   "name": "python",
   "nbconvert_exporter": "python",
   "pygments_lexer": "ipython3",
   "version": "3.7.4"
  }
 },
 "nbformat": 4,
 "nbformat_minor": 2
}
